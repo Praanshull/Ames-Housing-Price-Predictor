{
 "cells": [
  {
   "cell_type": "markdown",
   "id": "53989456-0696-467d-849c-22cfd515dff3",
   "metadata": {},
   "source": [
    "# 🏡 Ames Housing — Final Pipeline & Model\n",
    "\n",
    "**TL;DR:** This notebook contains the final scikit-learn pipeline and the production-ready model used in the project.  \n",
    "It’s intentionally compact — all EDA, exploratory graphs and modeling experiments are in `exploration.ipynb`. This file focuses on the final pipeline, minimal validation, inference examples, and artifact export/instructions.\n",
    "\n",
    "This notebook is the **deployment-oriented** artifact. For complete data exploration, visual analysis, PCA, and the model training notebook (all experiments and plots), open `exploration.ipynb`.  \n",
    "\n"
   ]
  },
  {
   "cell_type": "markdown",
   "id": "2c574dc6-78e8-4f45-bbb9-65bdfb9c05da",
   "metadata": {},
   "source": [
    "**Author:** Praanshull Verma \n",
    "**Date:** 2025-10-25  \n",
    "**Dataset:** Ames Housing (original EDA & exploration in `exploration.ipynb`)  \n",
    "**Artifacts produced:** `final_pipeline.pkl`, `feature_names.pkl`\n"
   ]
  },
  {
   "cell_type": "code",
   "execution_count": 1,
   "id": "9d3b82df-b172-4919-8e06-c78d59469e3d",
   "metadata": {},
   "outputs": [],
   "source": [
    "import pandas as pd\n",
    "import numpy as np\n",
    "from sklearn.model_selection import train_test_split, GridSearchCV\n",
    "from sklearn.compose import ColumnTransformer\n",
    "from sklearn.pipeline import Pipeline\n",
    "from sklearn.preprocessing import StandardScaler, OneHotEncoder, OrdinalEncoder\n",
    "from sklearn.impute import SimpleImputer\n",
    "from sklearn.ensemble import GradientBoostingRegressor\n",
    "from sklearn.metrics import mean_squared_error, r2_score\n",
    "import joblib\n"
   ]
  },
  {
   "cell_type": "code",
   "execution_count": 2,
   "id": "66a32513-747a-4d9d-baf7-d64fc0cc9ad3",
   "metadata": {},
   "outputs": [
    {
     "data": {
      "text/html": [
       "<div>\n",
       "<style scoped>\n",
       "    .dataframe tbody tr th:only-of-type {\n",
       "        vertical-align: middle;\n",
       "    }\n",
       "\n",
       "    .dataframe tbody tr th {\n",
       "        vertical-align: top;\n",
       "    }\n",
       "\n",
       "    .dataframe thead th {\n",
       "        text-align: right;\n",
       "    }\n",
       "</style>\n",
       "<table border=\"1\" class=\"dataframe\">\n",
       "  <thead>\n",
       "    <tr style=\"text-align: right;\">\n",
       "      <th></th>\n",
       "      <th>Id</th>\n",
       "      <th>MSSubClass</th>\n",
       "      <th>MSZoning</th>\n",
       "      <th>LotFrontage</th>\n",
       "      <th>LotArea</th>\n",
       "      <th>Street</th>\n",
       "      <th>Alley</th>\n",
       "      <th>LotShape</th>\n",
       "      <th>LandContour</th>\n",
       "      <th>Utilities</th>\n",
       "      <th>...</th>\n",
       "      <th>PoolArea</th>\n",
       "      <th>PoolQC</th>\n",
       "      <th>Fence</th>\n",
       "      <th>MiscFeature</th>\n",
       "      <th>MiscVal</th>\n",
       "      <th>MoSold</th>\n",
       "      <th>YrSold</th>\n",
       "      <th>SaleType</th>\n",
       "      <th>SaleCondition</th>\n",
       "      <th>SalePrice</th>\n",
       "    </tr>\n",
       "  </thead>\n",
       "  <tbody>\n",
       "    <tr>\n",
       "      <th>0</th>\n",
       "      <td>1</td>\n",
       "      <td>60</td>\n",
       "      <td>RL</td>\n",
       "      <td>65.0</td>\n",
       "      <td>8450</td>\n",
       "      <td>Pave</td>\n",
       "      <td>NaN</td>\n",
       "      <td>Reg</td>\n",
       "      <td>Lvl</td>\n",
       "      <td>AllPub</td>\n",
       "      <td>...</td>\n",
       "      <td>0</td>\n",
       "      <td>NaN</td>\n",
       "      <td>NaN</td>\n",
       "      <td>NaN</td>\n",
       "      <td>0</td>\n",
       "      <td>2</td>\n",
       "      <td>2008</td>\n",
       "      <td>WD</td>\n",
       "      <td>Normal</td>\n",
       "      <td>208500</td>\n",
       "    </tr>\n",
       "    <tr>\n",
       "      <th>1</th>\n",
       "      <td>2</td>\n",
       "      <td>20</td>\n",
       "      <td>RL</td>\n",
       "      <td>80.0</td>\n",
       "      <td>9600</td>\n",
       "      <td>Pave</td>\n",
       "      <td>NaN</td>\n",
       "      <td>Reg</td>\n",
       "      <td>Lvl</td>\n",
       "      <td>AllPub</td>\n",
       "      <td>...</td>\n",
       "      <td>0</td>\n",
       "      <td>NaN</td>\n",
       "      <td>NaN</td>\n",
       "      <td>NaN</td>\n",
       "      <td>0</td>\n",
       "      <td>5</td>\n",
       "      <td>2007</td>\n",
       "      <td>WD</td>\n",
       "      <td>Normal</td>\n",
       "      <td>181500</td>\n",
       "    </tr>\n",
       "    <tr>\n",
       "      <th>2</th>\n",
       "      <td>3</td>\n",
       "      <td>60</td>\n",
       "      <td>RL</td>\n",
       "      <td>68.0</td>\n",
       "      <td>11250</td>\n",
       "      <td>Pave</td>\n",
       "      <td>NaN</td>\n",
       "      <td>IR1</td>\n",
       "      <td>Lvl</td>\n",
       "      <td>AllPub</td>\n",
       "      <td>...</td>\n",
       "      <td>0</td>\n",
       "      <td>NaN</td>\n",
       "      <td>NaN</td>\n",
       "      <td>NaN</td>\n",
       "      <td>0</td>\n",
       "      <td>9</td>\n",
       "      <td>2008</td>\n",
       "      <td>WD</td>\n",
       "      <td>Normal</td>\n",
       "      <td>223500</td>\n",
       "    </tr>\n",
       "    <tr>\n",
       "      <th>3</th>\n",
       "      <td>4</td>\n",
       "      <td>70</td>\n",
       "      <td>RL</td>\n",
       "      <td>60.0</td>\n",
       "      <td>9550</td>\n",
       "      <td>Pave</td>\n",
       "      <td>NaN</td>\n",
       "      <td>IR1</td>\n",
       "      <td>Lvl</td>\n",
       "      <td>AllPub</td>\n",
       "      <td>...</td>\n",
       "      <td>0</td>\n",
       "      <td>NaN</td>\n",
       "      <td>NaN</td>\n",
       "      <td>NaN</td>\n",
       "      <td>0</td>\n",
       "      <td>2</td>\n",
       "      <td>2006</td>\n",
       "      <td>WD</td>\n",
       "      <td>Abnorml</td>\n",
       "      <td>140000</td>\n",
       "    </tr>\n",
       "    <tr>\n",
       "      <th>4</th>\n",
       "      <td>5</td>\n",
       "      <td>60</td>\n",
       "      <td>RL</td>\n",
       "      <td>84.0</td>\n",
       "      <td>14260</td>\n",
       "      <td>Pave</td>\n",
       "      <td>NaN</td>\n",
       "      <td>IR1</td>\n",
       "      <td>Lvl</td>\n",
       "      <td>AllPub</td>\n",
       "      <td>...</td>\n",
       "      <td>0</td>\n",
       "      <td>NaN</td>\n",
       "      <td>NaN</td>\n",
       "      <td>NaN</td>\n",
       "      <td>0</td>\n",
       "      <td>12</td>\n",
       "      <td>2008</td>\n",
       "      <td>WD</td>\n",
       "      <td>Normal</td>\n",
       "      <td>250000</td>\n",
       "    </tr>\n",
       "  </tbody>\n",
       "</table>\n",
       "<p>5 rows × 81 columns</p>\n",
       "</div>"
      ],
      "text/plain": [
       "   Id  MSSubClass MSZoning  LotFrontage  LotArea Street Alley LotShape  \\\n",
       "0   1          60       RL         65.0     8450   Pave   NaN      Reg   \n",
       "1   2          20       RL         80.0     9600   Pave   NaN      Reg   \n",
       "2   3          60       RL         68.0    11250   Pave   NaN      IR1   \n",
       "3   4          70       RL         60.0     9550   Pave   NaN      IR1   \n",
       "4   5          60       RL         84.0    14260   Pave   NaN      IR1   \n",
       "\n",
       "  LandContour Utilities  ... PoolArea PoolQC Fence MiscFeature MiscVal MoSold  \\\n",
       "0         Lvl    AllPub  ...        0    NaN   NaN         NaN       0      2   \n",
       "1         Lvl    AllPub  ...        0    NaN   NaN         NaN       0      5   \n",
       "2         Lvl    AllPub  ...        0    NaN   NaN         NaN       0      9   \n",
       "3         Lvl    AllPub  ...        0    NaN   NaN         NaN       0      2   \n",
       "4         Lvl    AllPub  ...        0    NaN   NaN         NaN       0     12   \n",
       "\n",
       "  YrSold  SaleType  SaleCondition  SalePrice  \n",
       "0   2008        WD         Normal     208500  \n",
       "1   2007        WD         Normal     181500  \n",
       "2   2008        WD         Normal     223500  \n",
       "3   2006        WD        Abnorml     140000  \n",
       "4   2008        WD         Normal     250000  \n",
       "\n",
       "[5 rows x 81 columns]"
      ]
     },
     "execution_count": 2,
     "metadata": {},
     "output_type": "execute_result"
    }
   ],
   "source": [
    "#Starting with importing our base Dataset (Ames Housing)\n",
    "from sklearn.datasets import fetch_openml\n",
    "housing = fetch_openml(name=\"house_prices\", as_frame=True)\n",
    "df = housing.frame\n",
    "df.head()"
   ]
  },
  {
   "cell_type": "code",
   "execution_count": 3,
   "id": "461ac09e-aaa5-4177-87e6-5efd2543dd62",
   "metadata": {},
   "outputs": [],
   "source": [
    "\n",
    "# Drop unhelpful or redundant columns (based on EDA decisions)\n",
    "drop_cols = [\n",
    "    \"Id\",# unique identifier, not predictive\n",
    "    \"Street\",# more than 98% of same value\n",
    "    \"Condition2\",# more than 98% of same value\n",
    "    \"Utilities\",# more than 98% of same value\n",
    "    \"RoofMatl\",# more than 98% of same value\n",
    "    \"LowQualFinSF\" #more than 98% of same value\n",
    "    \"3SsnPorch\", # more than 98% of same value\n",
    "    \"PoolArea\"# more than 98% of same value\n",
    "]\n",
    "df.drop(columns=drop_cols, inplace=True, errors=\"ignore\")"
   ]
  },
  {
   "cell_type": "code",
   "execution_count": 4,
   "id": "b655e844-9e74-4c20-8ee3-58b12b7edbff",
   "metadata": {},
   "outputs": [],
   "source": [
    "\n",
    "X = df.drop(\"SalePrice\", axis=1)\n",
    "y = np.log1p(df[\"SalePrice\"])  # log transform target\n"
   ]
  },
  {
   "cell_type": "code",
   "execution_count": 5,
   "id": "19c19eb6-f6c2-4b5b-abb1-a65a61e3b1f4",
   "metadata": {},
   "outputs": [],
   "source": [
    "X_train, X_test, y_train, y_test = train_test_split(X, y, test_size=0.2, random_state=42)\n"
   ]
  },
  {
   "cell_type": "code",
   "execution_count": 6,
   "id": "d308ee0b-02da-4ec9-9830-ce0ec6b8974d",
   "metadata": {},
   "outputs": [],
   "source": [
    "from sklearn.base import BaseEstimator, TransformerMixin\n",
    "import numpy as np\n",
    "import pandas as pd\n",
    "\n",
    "class LogTransformer(BaseEstimator, TransformerMixin):\n",
    "    def __init__(self, columns=None):\n",
    "        self.columns = columns\n",
    "    def fit(self, X, y=None):\n",
    "        return self\n",
    "    def transform(self, X):\n",
    "        # If X is a NumPy array\n",
    "        if isinstance(X, np.ndarray):\n",
    "            return np.log1p(X)\n",
    "        X_copy = X.copy()\n",
    "        for col in self.columns:\n",
    "            X_copy[col] = np.log1p(X_copy[col])\n",
    "        return X_copy\n",
    "    def get_feature_names_out(self, input_features=None):\n",
    "        return np.array(input_features)\n",
    "    def get_feature_names_out(self, input_features=None):\n",
    "        return np.array(input_features)  # ✅ just return names unchanged"
   ]
  },
  {
   "cell_type": "code",
   "execution_count": 7,
   "id": "f76a5d26-863d-476a-9827-b24cbcf5de4c",
   "metadata": {},
   "outputs": [],
   "source": [
    "# Features to log-transform\n",
    "log_features = ['LotArea', 'BsmtFinSF2', 'ScreenPorch', 'EnclosedPorch', \n",
    "           'MasVnrArea', 'LotFrontage', 'OpenPorchSF', 'SalePrice',\n",
    "           'BsmtFinSF1', 'WoodDeckSF', 'TotalBsmtSF', '1stFlrSF', 'GrLivArea']\n"
   ]
  },
  {
   "cell_type": "code",
   "execution_count": 8,
   "id": "83ca162d-6204-4600-b5e5-bdf20e3b2b6e",
   "metadata": {},
   "outputs": [],
   "source": [
    "from sklearn.base import BaseEstimator, TransformerMixin\n",
    "\n",
    "class FeatureEngineer(BaseEstimator, TransformerMixin):\n",
    "    def __init__(self):\n",
    "        pass\n",
    "\n",
    "    def fit(self, X, y=None):\n",
    "        return self\n",
    "    def get_feature_names_out(self, input_features=None):\n",
    "        return np.array(input_features)  # ✅ just return names unchanged\n",
    "\n",
    "    def transform(self, X):\n",
    "        X_copy = X.copy()\n",
    "\n",
    "        # --- Example engineered features ---\n",
    "        X_copy[\"TotalBath\"] = (\n",
    "            X_copy[\"FullBath\"].fillna(0)\n",
    "            + 0.5 * X_copy[\"HalfBath\"].fillna(0)\n",
    "            + X_copy[\"BsmtFullBath\"].fillna(0)\n",
    "            + 0.5 * X_copy[\"BsmtHalfBath\"].fillna(0)\n",
    "        )\n",
    "        X_copy[\"TotalSF\"] = (\n",
    "            X_copy[\"1stFlrSF\"].fillna(0)\n",
    "            + X_copy[\"2ndFlrSF\"].fillna(0)\n",
    "            + X_copy[\"TotalBsmtSF\"].fillna(0)\n",
    "        )\n",
    "\n",
    "        X_copy[\"TotalPorchSF\"] = (\n",
    "            X_copy[\"OpenPorchSF\"].fillna(0) + X_copy[\"EnclosedPorch\"].fillna(0)+X_copy[\"ScreenPorch\"].fillna(0)\n",
    "            +X_copy[\"WoodDeckSF\"].fillna(0)\n",
    "        )\n",
    "\n",
    "        # --- Drop old irrelevant features (as decided in EDA) ---\n",
    "        drop_cols = ['BsmtFinSF2','BsmtHalfBath','MiscVal','KitchenAbvGr','OverallCond','YrSold']\n",
    "        X_copy.drop(columns=drop_cols, inplace=True, errors=\"ignore\")\n",
    "\n",
    "        return X_copy\n"
   ]
  },
  {
   "cell_type": "markdown",
   "id": "2a285206-0858-49c8-a9ec-3b0187ed4d19",
   "metadata": {},
   "source": [
    "## Pipeline Overview\n",
    "\n",
    "The final artifact is a scikit-learn `Pipeline` that contains:\n",
    "1. Preprocessing (imputation, encoders)\n",
    "2. Feature engineering (custom transformer: `FeatureEngineer`)\n",
    "3. Transformations (log transforms / scaling if used)\n",
    "4. Final estimator: **Gradient Boosting Regressor** (tuned)\n"
   ]
  },
  {
   "cell_type": "code",
   "execution_count": 9,
   "id": "5510db1c-9ec3-4e50-be82-8f0eb165ae21",
   "metadata": {},
   "outputs": [],
   "source": [
    "numeric_features = ['LotArea','GrLivArea','BsmtFinSF1','1stFlrSF','GarageCars','TotalBsmtSF']\n",
    "log_features = ['LotArea','GrLivArea','BsmtFinSF1','1stFlrSF']\n",
    "\n",
    "ordinal_features = ['LotShape', 'LandContour', 'LandSlope', 'ExterQual', 'ExterCond', 'BsmtQual','BsmtCond','BsmtExposure', 'BsmtFinType1', 'BsmtFinType2', 'HeatingQC','KitchenQual', 'Functional', 'FireplaceQu', 'GarageFinish', 'GarageQual', 'GarageCond', 'PavedDrive', 'PoolQC', 'Fence']\n",
    "onehot_features = ['MSSubClass','MSZoning','Alley','LotConfig','Neighborhood','Condition1','BldgType','HouseStyle','RoofStyle','Exterior1st','Exterior2nd','MasVnrType','Foundation','Heating','CentralAir','Electrical','GarageType','MiscFeature','SaleType','SaleCondition']\n",
    "\n",
    "ordinal_mapping = [\n",
    "    ['IR3', 'IR2', 'IR1', 'Reg'],\n",
    "    ['Low', 'HLS', 'Bnk', 'Lvl'],\n",
    "    ['Sev', 'Mod', 'Gtl'],\n",
    "    ['None', 'Po', 'Fa', 'TA', 'Gd', 'Ex'],   # ExterQual\n",
    "    ['None', 'Po', 'Fa', 'TA', 'Gd', 'Ex'],   # ExterCond\n",
    "    ['None', 'Po', 'Fa', 'TA', 'Gd', 'Ex'],   # BsmtQual\n",
    "    ['None', 'Po', 'Fa', 'TA', 'Gd', 'Ex'],   # BsmtCond\n",
    "    ['None', 'No', 'Mn', 'Av', 'Gd'],         # BsmtExposure\n",
    "    ['None', 'Unf', 'LwQ', 'Rec', 'BLQ', 'ALQ', 'GLQ'],  # BsmtFinType1\n",
    "    ['None', 'Unf', 'LwQ', 'Rec', 'BLQ', 'ALQ', 'GLQ'],  # BsmtFinType2\n",
    "    ['None', 'Po', 'Fa', 'TA', 'Gd', 'Ex'],   # HeatingQC\n",
    "    ['None', 'Po', 'Fa', 'TA', 'Gd', 'Ex'],   # KitchenQual\n",
    "    ['None', 'Sal', 'Sev', 'Maj2', 'Maj1', 'Mod', 'Min2', 'Min1', 'Typ'], # Functional\n",
    "    ['None', 'Po', 'Fa', 'TA', 'Gd', 'Ex'],   # FireplaceQu\n",
    "    ['None', 'Unf', 'RFn', 'Fin'],            # GarageFinish\n",
    "    ['None', 'Po', 'Fa', 'TA', 'Gd', 'Ex'],   # GarageQual\n",
    "    ['None', 'Po', 'Fa', 'TA', 'Gd', 'Ex'],   # GarageCond\n",
    "    ['N', 'P', 'Y'],                          # PavedDrive\n",
    "    ['None', 'Fa', 'TA', 'Gd', 'Ex'],         # PoolQC\n",
    "    ['None', 'MnWw', 'GdWo', 'MnPrv', 'GdPrv'] # Fence\n",
    "]\n",
    "numeric_transformer = Pipeline([\n",
    "    (\"imputer\", SimpleImputer(strategy=\"median\")),\n",
    "    (\"log\", LogTransformer(columns=log_features)),\n",
    "    (\"scaler\", StandardScaler())\n",
    "])\n",
    "\n",
    "ordinal_transformer = Pipeline([\n",
    "    (\"imputer\", SimpleImputer(strategy=\"most_frequent\")),\n",
    "    (\"encoder\", OrdinalEncoder(categories=ordinal_mapping))\n",
    "])\n",
    "\n",
    "onehot_transformer = Pipeline([\n",
    "    (\"imputer\", SimpleImputer(strategy=\"most_frequent\")),\n",
    "    (\"onehot\", OneHotEncoder(handle_unknown=\"ignore\", sparse_output=False))\n",
    "])\n",
    "\n",
    "preprocessor = ColumnTransformer([\n",
    "    (\"num\", numeric_transformer, numeric_features),\n",
    "    (\"ord\", ordinal_transformer, ordinal_features),\n",
    "    (\"nom\", onehot_transformer, onehot_features)\n",
    "], remainder=\"drop\")\n"
   ]
  },
  {
   "cell_type": "code",
   "execution_count": 10,
   "id": "9f474082-9fe2-4d0b-af28-9a7a7f06ee1c",
   "metadata": {},
   "outputs": [],
   "source": [
    "pipe = Pipeline([\n",
    "    (\"feature_engineering\", FeatureEngineer()),\n",
    "    (\"preprocessor\", preprocessor),\n",
    "    (\"model\", GradientBoostingRegressor(\n",
    "    n_estimators=850,\n",
    "    learning_rate=0.03,\n",
    "    subsample=0.8,\n",
    "    min_samples_leaf=9,\n",
    "    max_features=0.3,\n",
    "    max_depth=3,\n",
    "    random_state=42\n",
    "))\n",
    "])"
   ]
  },
  {
   "cell_type": "code",
   "execution_count": 11,
   "id": "ba5f01a9-dfa7-4357-b345-1fcbcd403dec",
   "metadata": {
    "scrolled": true
   },
   "outputs": [],
   "source": [
    "pipe.fit(X_train, y_train)\n",
    "y_pred = pipe.predict(X_test)\n"
   ]
  },
  {
   "cell_type": "markdown",
   "id": "f231b4bc-6aad-4c78-8770-b3e061d7adb4",
   "metadata": {},
   "source": [
    "## Model Evaluation — Summary\n",
    "\n",
    "Shown below: the final cross-validated metric(s) used to choose this model (RMSE on log-transformed SalePrice).\n"
   ]
  },
  {
   "cell_type": "code",
   "execution_count": 12,
   "id": "b7b68e8e-1f02-42e0-a92d-d7ede274cf55",
   "metadata": {},
   "outputs": [
    {
     "name": "stdout",
     "output_type": "stream",
     "text": [
      "RMSE: 0.1505\n",
      "MAE: 0.0973\n",
      "R²: 0.8786\n"
     ]
    },
    {
     "name": "stderr",
     "output_type": "stream",
     "text": [
      "/opt/anaconda3/lib/python3.12/site-packages/sklearn/metrics/_regression.py:492: FutureWarning: 'squared' is deprecated in version 1.4 and will be removed in 1.6. To calculate the root mean squared error, use the function'root_mean_squared_error'.\n",
      "  warnings.warn(\n"
     ]
    }
   ],
   "source": [
    "from sklearn.metrics import mean_squared_error, mean_absolute_error, r2_score\n",
    "import numpy as np\n",
    "\n",
    "# Calculate metrics\n",
    "rmse = mean_squared_error(y_test, y_pred, squared=False)\n",
    "mae = mean_absolute_error(y_test, y_pred)\n",
    "r2 = r2_score(y_test, y_pred)\n",
    "\n",
    "print(f\"RMSE: {rmse:.4f}\")\n",
    "print(f\"MAE: {mae:.4f}\")\n",
    "print(f\"R²: {r2:.4f}\")\n"
   ]
  },
  {
   "cell_type": "code",
   "execution_count": 13,
   "id": "8f43e7b4-ddcb-4df9-8df6-b1d23ec0cb87",
   "metadata": {},
   "outputs": [
    {
     "name": "stdout",
     "output_type": "stream",
     "text": [
      "RMSE ($): 29,221.21\n",
      "MAE ($): 16,638.82\n"
     ]
    },
    {
     "name": "stderr",
     "output_type": "stream",
     "text": [
      "/opt/anaconda3/lib/python3.12/site-packages/sklearn/metrics/_regression.py:492: FutureWarning: 'squared' is deprecated in version 1.4 and will be removed in 1.6. To calculate the root mean squared error, use the function'root_mean_squared_error'.\n",
      "  warnings.warn(\n"
     ]
    }
   ],
   "source": [
    "from sklearn.metrics import mean_squared_error, mean_absolute_error, r2_score\n",
    "# Convert back from log scale to actual dollars\n",
    "y_test_exp = np.exp(y_test)\n",
    "y_pred_exp = np.exp(y_pred)\n",
    "\n",
    "rmse_dollar = mean_squared_error(y_test_exp, y_pred_exp, squared=False)\n",
    "mae_dollar = mean_absolute_error(y_test_exp, y_pred_exp)\n",
    "\n",
    "print(f\"RMSE ($): {rmse_dollar:,.2f}\")\n",
    "print(f\"MAE ($): {mae_dollar:,.2f}\")\n"
   ]
  },
  {
   "cell_type": "markdown",
   "id": "9e33df6d-dca8-42c4-b728-acb7c295cd5c",
   "metadata": {},
   "source": [
    "## Exported Artifacts\n",
    "\n",
    "- `final_pipeline.pkl` — full sklearn pipeline (preprocessing + feature engineering + estimator)  \n",
    "- `feature_names.pkl` — ordered list of features expected by pipeline  \n",
    "\n"
   ]
  },
  {
   "cell_type": "code",
   "execution_count": 14,
   "id": "5e61fabd-702e-42c7-ae8b-a2aa28c22db6",
   "metadata": {},
   "outputs": [
    {
     "data": {
      "text/plain": [
       "['final_pipeline.pkl']"
      ]
     },
     "execution_count": 14,
     "metadata": {},
     "output_type": "execute_result"
    }
   ],
   "source": [
    "import joblib\n",
    "joblib.dump(pipe, \"final_pipeline.pkl\")\n"
   ]
  },
  {
   "cell_type": "code",
   "execution_count": 15,
   "id": "17927ab7-55a2-4cdf-a927-5423c17d007d",
   "metadata": {},
   "outputs": [
    {
     "data": {
      "text/plain": [
       "['feature_names.pkl']"
      ]
     },
     "execution_count": 15,
     "metadata": {},
     "output_type": "execute_result"
    }
   ],
   "source": [
    "joblib.dump(X_train.columns.tolist(), \"feature_names.pkl\")\n"
   ]
  },
  {
   "cell_type": "code",
   "execution_count": null,
   "id": "ebd247f2-5040-464c-98d6-3e8ee80cc77a",
   "metadata": {},
   "outputs": [],
   "source": []
  }
 ],
 "metadata": {
  "kernelspec": {
   "display_name": "Python 3 (ipykernel)",
   "language": "python",
   "name": "python3"
  },
  "language_info": {
   "codemirror_mode": {
    "name": "ipython",
    "version": 3
   },
   "file_extension": ".py",
   "mimetype": "text/x-python",
   "name": "python",
   "nbconvert_exporter": "python",
   "pygments_lexer": "ipython3",
   "version": "3.12.7"
  }
 },
 "nbformat": 4,
 "nbformat_minor": 5
}
